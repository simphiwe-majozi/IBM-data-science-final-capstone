{
 "cells": [
  {
   "cell_type": "markdown",
   "id": "62f5e5fc-c21f-4a5b-8e79-5ad7c2c32331",
   "metadata": {},
   "source": [
    "<p style=\"text-align:center\">\n",
    "    <a href=\"https://skills.network/?utm_medium=Exinfluencer&utm_source=Exinfluencer&utm_content=000026UJ&utm_term=10006555&utm_id=NA-SkillsNetwork-Channel-SkillsNetworkCoursesIBMDS0321ENSkillsNetwork865-2022-01-01\" target=\"_blank\">\n",
    "    <img src=\"https://cf-courses-data.s3.us.cloud-object-storage.appdomain.cloud/assets/logos/SN_web_lightmode.png\" width=\"200\" alt=\"Skills Network Logo\"  />\n",
    "    </a>\n",
    "</p>\n",
    "\n",
    "<h1 align=center><font size = 5>Assignment: SQL Notebook for Peer Assignment</font></h1>\n",
    "\n",
    "Estimated time needed: **60** minutes.\n",
    "\n",
    "## Introduction\n",
    "Using this Python notebook you will:\n",
    "\n",
    "1.  Understand the Spacex DataSet\n",
    "2.  Load the dataset  into the corresponding table in a Db2 database\n",
    "3.  Execute SQL queries to answer assignment questions \n"
   ]
  },
  {
   "cell_type": "markdown",
   "id": "28b87e78-66b4-42a6-bc76-a8c3e9122b81",
   "metadata": {},
   "source": [
    "## Overview of the DataSet\n",
    "\n",
    "SpaceX has gained worldwide attention for a series of historic milestones. \n",
    "\n",
    "It is the only private company ever to return a spacecraft from low-earth orbit, which it first accomplished in December 2010.\n",
    "SpaceX advertises Falcon 9 rocket launches on its website with a cost of 62 million dollars wheras other providers cost upward of 165 million dollars each, much of the savings is because Space X can reuse the first stage. \n",
    "\n",
    "\n",
    "Therefore if we can determine if the first stage will land, we can determine the cost of a launch. \n",
    "\n",
    "This information can be used if an alternate company wants to bid against SpaceX for a rocket launch.\n",
    "\n",
    "This dataset includes a record for each payload carried during a SpaceX mission into outer space.\n"
   ]
  },
  {
   "cell_type": "markdown",
   "id": "ffe8c135-38dc-4e01-9956-5f5bc504f285",
   "metadata": {},
   "source": [
    "### Download the datasets\n",
    "\n",
    "This assignment requires you to load the spacex dataset.\n",
    "\n",
    "In many cases the dataset to be analyzed is available as a .CSV (comma separated values) file, perhaps on the internet. Click on the link below to download and save the dataset (.CSV file):\n",
    "\n",
    " <a href=\"https://cf-courses-data.s3.us.cloud-object-storage.appdomain.cloud/IBM-DS0321EN-SkillsNetwork/labs/module_2/data/Spacex.csv\" target=\"_blank\">Spacex DataSet</a>\n",
    "\n"
   ]
  },
  {
   "cell_type": "code",
   "execution_count": 1,
   "id": "c00de771-8c83-4dc5-8592-fa6178faeeae",
   "metadata": {},
   "outputs": [
    {
     "name": "stdout",
     "output_type": "stream",
     "text": [
      "Collecting sqlalchemy==1.3.9\n",
      "  Downloading SQLAlchemy-1.3.9.tar.gz (6.0 MB)\n",
      "\u001b[2K     \u001b[90m━━━━━━━━━━━━━━━━━━━━━━━━━━━━━━━━━━━━━━━━\u001b[0m \u001b[32m6.0/6.0 MB\u001b[0m \u001b[31m1.3 MB/s\u001b[0m eta \u001b[36m0:00:00\u001b[0m00:01\u001b[0m00:01\u001b[0m0m\n",
      "\u001b[?25h  Preparing metadata (setup.py) ... \u001b[?25ldone\n",
      "\u001b[?25hBuilding wheels for collected packages: sqlalchemy\n",
      "  Building wheel for sqlalchemy (setup.py) ... \u001b[?25ldone\n",
      "\u001b[?25h  Created wheel for sqlalchemy: filename=SQLAlchemy-1.3.9-cp310-cp310-macosx_10_9_x86_64.whl size=1153867 sha256=0d4adb0a2c6cf00c37395c50c3eb5c73d1c9b66804e993584df3fb8094c6e261\n",
      "  Stored in directory: /Users/simphiwemajozi/Library/Caches/pip/wheels/66/e3/30/28b647805efa547d8f190c0ea36dbce63a098cd732559acf2f\n",
      "Successfully built sqlalchemy\n",
      "Installing collected packages: sqlalchemy\n",
      "  Attempting uninstall: sqlalchemy\n",
      "    Found existing installation: SQLAlchemy 1.4.39\n",
      "    Uninstalling SQLAlchemy-1.4.39:\n",
      "      Successfully uninstalled SQLAlchemy-1.4.39\n",
      "Successfully installed sqlalchemy-1.3.9\n"
     ]
    }
   ],
   "source": [
    "!pip install sqlalchemy==1.3.9\n"
   ]
  },
  {
   "cell_type": "markdown",
   "id": "21bfcb4f-176e-40d8-a398-4de8fd56d2f3",
   "metadata": {},
   "source": [
    "### Connect to the database\n",
    "\n",
    "Let us first load the SQL extension and establish a connection with the database\n"
   ]
  },
  {
   "cell_type": "code",
   "execution_count": 4,
   "id": "fcb6ec57-e566-49bc-921f-83c4fa2046d0",
   "metadata": {},
   "outputs": [
    {
     "ename": "ModuleNotFoundError",
     "evalue": "No module named 'sql'",
     "output_type": "error",
     "traceback": [
      "\u001b[0;31m---------------------------------------------------------------------------\u001b[0m",
      "\u001b[0;31mModuleNotFoundError\u001b[0m                       Traceback (most recent call last)",
      "Cell \u001b[0;32mIn[4], line 1\u001b[0m\n\u001b[0;32m----> 1\u001b[0m \u001b[43mget_ipython\u001b[49m\u001b[43m(\u001b[49m\u001b[43m)\u001b[49m\u001b[38;5;241;43m.\u001b[39;49m\u001b[43mrun_line_magic\u001b[49m\u001b[43m(\u001b[49m\u001b[38;5;124;43m'\u001b[39;49m\u001b[38;5;124;43mload_ext\u001b[39;49m\u001b[38;5;124;43m'\u001b[39;49m\u001b[43m,\u001b[49m\u001b[43m \u001b[49m\u001b[38;5;124;43m'\u001b[39;49m\u001b[38;5;124;43msql\u001b[39;49m\u001b[38;5;124;43m'\u001b[39;49m\u001b[43m)\u001b[49m\n",
      "File \u001b[0;32m~/anaconda3/lib/python3.10/site-packages/IPython/core/interactiveshell.py:2369\u001b[0m, in \u001b[0;36mInteractiveShell.run_line_magic\u001b[0;34m(self, magic_name, line, _stack_depth)\u001b[0m\n\u001b[1;32m   2367\u001b[0m     kwargs[\u001b[38;5;124m'\u001b[39m\u001b[38;5;124mlocal_ns\u001b[39m\u001b[38;5;124m'\u001b[39m] \u001b[38;5;241m=\u001b[39m \u001b[38;5;28mself\u001b[39m\u001b[38;5;241m.\u001b[39mget_local_scope(stack_depth)\n\u001b[1;32m   2368\u001b[0m \u001b[38;5;28;01mwith\u001b[39;00m \u001b[38;5;28mself\u001b[39m\u001b[38;5;241m.\u001b[39mbuiltin_trap:\n\u001b[0;32m-> 2369\u001b[0m     result \u001b[38;5;241m=\u001b[39m \u001b[43mfn\u001b[49m\u001b[43m(\u001b[49m\u001b[38;5;241;43m*\u001b[39;49m\u001b[43margs\u001b[49m\u001b[43m,\u001b[49m\u001b[43m \u001b[49m\u001b[38;5;241;43m*\u001b[39;49m\u001b[38;5;241;43m*\u001b[39;49m\u001b[43mkwargs\u001b[49m\u001b[43m)\u001b[49m\n\u001b[1;32m   2371\u001b[0m \u001b[38;5;66;03m# The code below prevents the output from being displayed\u001b[39;00m\n\u001b[1;32m   2372\u001b[0m \u001b[38;5;66;03m# when using magics with decodator @output_can_be_silenced\u001b[39;00m\n\u001b[1;32m   2373\u001b[0m \u001b[38;5;66;03m# when the last Python token in the expression is a ';'.\u001b[39;00m\n\u001b[1;32m   2374\u001b[0m \u001b[38;5;28;01mif\u001b[39;00m \u001b[38;5;28mgetattr\u001b[39m(fn, magic\u001b[38;5;241m.\u001b[39mMAGIC_OUTPUT_CAN_BE_SILENCED, \u001b[38;5;28;01mFalse\u001b[39;00m):\n",
      "File \u001b[0;32m~/anaconda3/lib/python3.10/site-packages/IPython/core/magics/extension.py:33\u001b[0m, in \u001b[0;36mExtensionMagics.load_ext\u001b[0;34m(self, module_str)\u001b[0m\n\u001b[1;32m     31\u001b[0m \u001b[38;5;28;01mif\u001b[39;00m \u001b[38;5;129;01mnot\u001b[39;00m module_str:\n\u001b[1;32m     32\u001b[0m     \u001b[38;5;28;01mraise\u001b[39;00m UsageError(\u001b[38;5;124m'\u001b[39m\u001b[38;5;124mMissing module name.\u001b[39m\u001b[38;5;124m'\u001b[39m)\n\u001b[0;32m---> 33\u001b[0m res \u001b[38;5;241m=\u001b[39m \u001b[38;5;28;43mself\u001b[39;49m\u001b[38;5;241;43m.\u001b[39;49m\u001b[43mshell\u001b[49m\u001b[38;5;241;43m.\u001b[39;49m\u001b[43mextension_manager\u001b[49m\u001b[38;5;241;43m.\u001b[39;49m\u001b[43mload_extension\u001b[49m\u001b[43m(\u001b[49m\u001b[43mmodule_str\u001b[49m\u001b[43m)\u001b[49m\n\u001b[1;32m     35\u001b[0m \u001b[38;5;28;01mif\u001b[39;00m res \u001b[38;5;241m==\u001b[39m \u001b[38;5;124m'\u001b[39m\u001b[38;5;124malready loaded\u001b[39m\u001b[38;5;124m'\u001b[39m:\n\u001b[1;32m     36\u001b[0m     \u001b[38;5;28mprint\u001b[39m(\u001b[38;5;124m\"\u001b[39m\u001b[38;5;124mThe \u001b[39m\u001b[38;5;132;01m%s\u001b[39;00m\u001b[38;5;124m extension is already loaded. To reload it, use:\u001b[39m\u001b[38;5;124m\"\u001b[39m \u001b[38;5;241m%\u001b[39m module_str)\n",
      "File \u001b[0;32m~/anaconda3/lib/python3.10/site-packages/IPython/core/extensions.py:76\u001b[0m, in \u001b[0;36mExtensionManager.load_extension\u001b[0;34m(self, module_str)\u001b[0m\n\u001b[1;32m     69\u001b[0m \u001b[38;5;124;03m\"\"\"Load an IPython extension by its module name.\u001b[39;00m\n\u001b[1;32m     70\u001b[0m \n\u001b[1;32m     71\u001b[0m \u001b[38;5;124;03mReturns the string \"already loaded\" if the extension is already loaded,\u001b[39;00m\n\u001b[1;32m     72\u001b[0m \u001b[38;5;124;03m\"no load function\" if the module doesn't have a load_ipython_extension\u001b[39;00m\n\u001b[1;32m     73\u001b[0m \u001b[38;5;124;03mfunction, or None if it succeeded.\u001b[39;00m\n\u001b[1;32m     74\u001b[0m \u001b[38;5;124;03m\"\"\"\u001b[39;00m\n\u001b[1;32m     75\u001b[0m \u001b[38;5;28;01mtry\u001b[39;00m:\n\u001b[0;32m---> 76\u001b[0m     \u001b[38;5;28;01mreturn\u001b[39;00m \u001b[38;5;28;43mself\u001b[39;49m\u001b[38;5;241;43m.\u001b[39;49m\u001b[43m_load_extension\u001b[49m\u001b[43m(\u001b[49m\u001b[43mmodule_str\u001b[49m\u001b[43m)\u001b[49m\n\u001b[1;32m     77\u001b[0m \u001b[38;5;28;01mexcept\u001b[39;00m \u001b[38;5;167;01mModuleNotFoundError\u001b[39;00m:\n\u001b[1;32m     78\u001b[0m     \u001b[38;5;28;01mif\u001b[39;00m module_str \u001b[38;5;129;01min\u001b[39;00m BUILTINS_EXTS:\n",
      "File \u001b[0;32m~/anaconda3/lib/python3.10/site-packages/IPython/core/extensions.py:91\u001b[0m, in \u001b[0;36mExtensionManager._load_extension\u001b[0;34m(self, module_str)\u001b[0m\n\u001b[1;32m     89\u001b[0m \u001b[38;5;28;01mwith\u001b[39;00m \u001b[38;5;28mself\u001b[39m\u001b[38;5;241m.\u001b[39mshell\u001b[38;5;241m.\u001b[39mbuiltin_trap:\n\u001b[1;32m     90\u001b[0m     \u001b[38;5;28;01mif\u001b[39;00m module_str \u001b[38;5;129;01mnot\u001b[39;00m \u001b[38;5;129;01min\u001b[39;00m sys\u001b[38;5;241m.\u001b[39mmodules:\n\u001b[0;32m---> 91\u001b[0m         mod \u001b[38;5;241m=\u001b[39m \u001b[43mimport_module\u001b[49m\u001b[43m(\u001b[49m\u001b[43mmodule_str\u001b[49m\u001b[43m)\u001b[49m\n\u001b[1;32m     92\u001b[0m     mod \u001b[38;5;241m=\u001b[39m sys\u001b[38;5;241m.\u001b[39mmodules[module_str]\n\u001b[1;32m     93\u001b[0m     \u001b[38;5;28;01mif\u001b[39;00m \u001b[38;5;28mself\u001b[39m\u001b[38;5;241m.\u001b[39m_call_load_ipython_extension(mod):\n",
      "File \u001b[0;32m~/anaconda3/lib/python3.10/importlib/__init__.py:126\u001b[0m, in \u001b[0;36mimport_module\u001b[0;34m(name, package)\u001b[0m\n\u001b[1;32m    124\u001b[0m             \u001b[38;5;28;01mbreak\u001b[39;00m\n\u001b[1;32m    125\u001b[0m         level \u001b[38;5;241m+\u001b[39m\u001b[38;5;241m=\u001b[39m \u001b[38;5;241m1\u001b[39m\n\u001b[0;32m--> 126\u001b[0m \u001b[38;5;28;01mreturn\u001b[39;00m \u001b[43m_bootstrap\u001b[49m\u001b[38;5;241;43m.\u001b[39;49m\u001b[43m_gcd_import\u001b[49m\u001b[43m(\u001b[49m\u001b[43mname\u001b[49m\u001b[43m[\u001b[49m\u001b[43mlevel\u001b[49m\u001b[43m:\u001b[49m\u001b[43m]\u001b[49m\u001b[43m,\u001b[49m\u001b[43m \u001b[49m\u001b[43mpackage\u001b[49m\u001b[43m,\u001b[49m\u001b[43m \u001b[49m\u001b[43mlevel\u001b[49m\u001b[43m)\u001b[49m\n",
      "File \u001b[0;32m<frozen importlib._bootstrap>:1050\u001b[0m, in \u001b[0;36m_gcd_import\u001b[0;34m(name, package, level)\u001b[0m\n",
      "File \u001b[0;32m<frozen importlib._bootstrap>:1027\u001b[0m, in \u001b[0;36m_find_and_load\u001b[0;34m(name, import_)\u001b[0m\n",
      "File \u001b[0;32m<frozen importlib._bootstrap>:1004\u001b[0m, in \u001b[0;36m_find_and_load_unlocked\u001b[0;34m(name, import_)\u001b[0m\n",
      "\u001b[0;31mModuleNotFoundError\u001b[0m: No module named 'sql'"
     ]
    }
   ],
   "source": [
    "%load_ext sql"
   ]
  },
  {
   "cell_type": "code",
   "execution_count": 5,
   "id": "6e472564-b81a-4ab7-9f81-8a887f99e46f",
   "metadata": {},
   "outputs": [],
   "source": [
    "import csv, sqlite3\n",
    "\n",
    "con = sqlite3.connect(\"my_data1.db\")\n",
    "cur = con.cursor()"
   ]
  },
  {
   "cell_type": "code",
   "execution_count": 6,
   "id": "a39f4990-90f3-4b4b-bc2c-c2c7f031e355",
   "metadata": {},
   "outputs": [
    {
     "name": "stdout",
     "output_type": "stream",
     "text": [
      "\u001b[31mERROR: pip's dependency resolver does not currently take into account all the packages that are installed. This behaviour is the source of the following dependency conflicts.\r\n",
      "xarray 2022.11.0 requires pandas>=1.3, but you have pandas 1.1.5 which is incompatible.\u001b[0m\u001b[31m\r\n",
      "\u001b[0m"
     ]
    }
   ],
   "source": [
    "!pip install -q pandas==1.1.5"
   ]
  },
  {
   "cell_type": "code",
   "execution_count": 7,
   "id": "6c405952-7668-42cd-8f1d-359b527d0575",
   "metadata": {},
   "outputs": [
    {
     "name": "stderr",
     "output_type": "stream",
     "text": [
      "UsageError: Line magic function `%sql` not found.\n"
     ]
    }
   ],
   "source": [
    "%sql sqlite:///my_data1.db"
   ]
  },
  {
   "cell_type": "code",
   "execution_count": null,
   "id": "2717bc34-beac-4bd7-a89e-c4a41e8157f8",
   "metadata": {},
   "outputs": [],
   "source": [
    "import pandas as pd\n",
    "df = pd.read_csv(\"Spacex.csv\")\n",
    "df.to_sql(\"SPACEXTBL\", con, if_exists='replace', index=False,method=\"multi\")"
   ]
  },
  {
   "cell_type": "markdown",
   "id": "aeb3df77-52db-4f77-90a0-bbf6760b1125",
   "metadata": {},
   "source": [
    "## Tasks\n",
    "\n",
    "Now write and execute SQL queries to solve the assignment tasks.\n",
    "\n",
    "**Note: If the column names are in mixed case enclose it in double quotes\n",
    "   For Example \"Landing_Outcome\"**\n",
    "\n",
    "### Task 1\n",
    "\n",
    "\n",
    "\n",
    "\n",
    "##### Display the names of the unique launch sites  in the space mission\n"
   ]
  },
  {
   "cell_type": "code",
   "execution_count": 8,
   "id": "064f242f-3e91-4990-9f3c-131f1f60cec3",
   "metadata": {},
   "outputs": [
    {
     "ename": "NameError",
     "evalue": "name 'create_pandas_df' is not defined",
     "output_type": "error",
     "traceback": [
      "\u001b[0;31m---------------------------------------------------------------------------\u001b[0m",
      "\u001b[0;31mNameError\u001b[0m                                 Traceback (most recent call last)",
      "Cell \u001b[0;32mIn[8], line 5\u001b[0m\n\u001b[1;32m      1\u001b[0m task_1 \u001b[38;5;241m=\u001b[39m \u001b[38;5;124m'''\u001b[39m\n\u001b[1;32m      2\u001b[0m \u001b[38;5;124m        SELECT DISTINCT LaunchSite \u001b[39m\n\u001b[1;32m      3\u001b[0m \u001b[38;5;124m        FROM SpaceX\u001b[39m\n\u001b[1;32m      4\u001b[0m \u001b[38;5;124m'''\u001b[39m\n\u001b[0;32m----> 5\u001b[0m \u001b[43mcreate_pandas_df\u001b[49m(task_1, database\u001b[38;5;241m=\u001b[39mconn)\n",
      "\u001b[0;31mNameError\u001b[0m: name 'create_pandas_df' is not defined"
     ]
    }
   ],
   "source": [
    "task_1 = '''\n",
    "        SELECT DISTINCT LaunchSite \n",
    "        FROM SpaceX\n",
    "'''\n",
    "create_pandas_df(task_1, database=conn)"
   ]
  },
  {
   "cell_type": "markdown",
   "id": "6ad3ca6d-02c4-47cc-bcb6-b2f375e29f14",
   "metadata": {},
   "source": [
    "\n",
    "### Task 2\n",
    "\n",
    "\n",
    "#####  Display 5 records where launch sites begin with the string 'CCA' \n"
   ]
  },
  {
   "cell_type": "code",
   "execution_count": 9,
   "id": "c8b96954-f622-40f1-afa5-d242dd0151b4",
   "metadata": {},
   "outputs": [
    {
     "ename": "NameError",
     "evalue": "name 'create_pandas_df' is not defined",
     "output_type": "error",
     "traceback": [
      "\u001b[0;31m---------------------------------------------------------------------------\u001b[0m",
      "\u001b[0;31mNameError\u001b[0m                                 Traceback (most recent call last)",
      "Cell \u001b[0;32mIn[9], line 7\u001b[0m\n\u001b[1;32m      1\u001b[0m task_2 \u001b[38;5;241m=\u001b[39m \u001b[38;5;124m'''\u001b[39m\n\u001b[1;32m      2\u001b[0m \u001b[38;5;124m        SELECT *\u001b[39m\n\u001b[1;32m      3\u001b[0m \u001b[38;5;124m        FROM SpaceX\u001b[39m\n\u001b[1;32m      4\u001b[0m \u001b[38;5;124m        WHERE LaunchSite LIKE \u001b[39m\u001b[38;5;124m'\u001b[39m\u001b[38;5;124mCCA\u001b[39m\u001b[38;5;124m%\u001b[39m\u001b[38;5;124m'\u001b[39m\n\u001b[1;32m      5\u001b[0m \u001b[38;5;124m        LIMIT 5\u001b[39m\n\u001b[1;32m      6\u001b[0m \u001b[38;5;124m        \u001b[39m\u001b[38;5;124m'''\u001b[39m\n\u001b[0;32m----> 7\u001b[0m \u001b[43mcreate_pandas_df\u001b[49m(task_2, database\u001b[38;5;241m=\u001b[39mconn)\n",
      "\u001b[0;31mNameError\u001b[0m: name 'create_pandas_df' is not defined"
     ]
    }
   ],
   "source": [
    "task_2 = '''\n",
    "        SELECT *\n",
    "        FROM SpaceX\n",
    "        WHERE LaunchSite LIKE 'CCA%'\n",
    "        LIMIT 5\n",
    "        '''\n",
    "create_pandas_df(task_2, database=conn)"
   ]
  },
  {
   "cell_type": "markdown",
   "id": "a1245fe9-e9c7-4d3f-8e39-5f0763511ab0",
   "metadata": {},
   "source": [
    "### Task 3\n",
    "\n",
    "\n",
    "\n",
    "\n",
    "##### Display the total payload mass carried by boosters launched by NASA (CRS)\n"
   ]
  },
  {
   "cell_type": "code",
   "execution_count": 10,
   "id": "bca5e349-bd05-4ace-b1c8-9eeea1b46a32",
   "metadata": {},
   "outputs": [
    {
     "ename": "NameError",
     "evalue": "name 'create_pandas_df' is not defined",
     "output_type": "error",
     "traceback": [
      "\u001b[0;31m---------------------------------------------------------------------------\u001b[0m",
      "\u001b[0;31mNameError\u001b[0m                                 Traceback (most recent call last)",
      "Cell \u001b[0;32mIn[10], line 6\u001b[0m\n\u001b[1;32m      1\u001b[0m task_3 \u001b[38;5;241m=\u001b[39m \u001b[38;5;124m'''\u001b[39m\n\u001b[1;32m      2\u001b[0m \u001b[38;5;124m        SELECT SUM(PayloadMassKG) AS Total_PayloadMass\u001b[39m\n\u001b[1;32m      3\u001b[0m \u001b[38;5;124m        FROM SpaceX\u001b[39m\n\u001b[1;32m      4\u001b[0m \u001b[38;5;124m        WHERE Customer LIKE \u001b[39m\u001b[38;5;124m'\u001b[39m\u001b[38;5;124mNASA (CRS)\u001b[39m\u001b[38;5;124m'\u001b[39m\n\u001b[1;32m      5\u001b[0m \u001b[38;5;124m        \u001b[39m\u001b[38;5;124m'''\u001b[39m\n\u001b[0;32m----> 6\u001b[0m \u001b[43mcreate_pandas_df\u001b[49m(task_3, database\u001b[38;5;241m=\u001b[39mconn)\n",
      "\u001b[0;31mNameError\u001b[0m: name 'create_pandas_df' is not defined"
     ]
    }
   ],
   "source": [
    "task_3 = '''\n",
    "        SELECT SUM(PayloadMassKG) AS Total_PayloadMass\n",
    "        FROM SpaceX\n",
    "        WHERE Customer LIKE 'NASA (CRS)'\n",
    "        '''\n",
    "create_pandas_df(task_3, database=conn)"
   ]
  },
  {
   "cell_type": "markdown",
   "id": "68009afe-0c04-408b-a3ea-fccb5a4c2a85",
   "metadata": {},
   "source": [
    "### Task 4\n",
    "\n",
    "\n",
    "\n",
    "\n",
    "##### Display average payload mass carried by booster version F9 v1.1\n"
   ]
  },
  {
   "cell_type": "code",
   "execution_count": 11,
   "id": "c9ab7fe6-b18c-4a77-86b2-61c398c58c43",
   "metadata": {},
   "outputs": [
    {
     "ename": "NameError",
     "evalue": "name 'create_pandas_df' is not defined",
     "output_type": "error",
     "traceback": [
      "\u001b[0;31m---------------------------------------------------------------------------\u001b[0m",
      "\u001b[0;31mNameError\u001b[0m                                 Traceback (most recent call last)",
      "Cell \u001b[0;32mIn[11], line 6\u001b[0m\n\u001b[1;32m      1\u001b[0m task_4 \u001b[38;5;241m=\u001b[39m \u001b[38;5;124m'''\u001b[39m\n\u001b[1;32m      2\u001b[0m \u001b[38;5;124m        SELECT AVG(PayloadMassKG) AS Avg_PayloadMass\u001b[39m\n\u001b[1;32m      3\u001b[0m \u001b[38;5;124m        FROM SpaceX\u001b[39m\n\u001b[1;32m      4\u001b[0m \u001b[38;5;124m        WHERE BoosterVersion = \u001b[39m\u001b[38;5;124m'\u001b[39m\u001b[38;5;124mF9 v1.1\u001b[39m\u001b[38;5;124m'\u001b[39m\n\u001b[1;32m      5\u001b[0m \u001b[38;5;124m        \u001b[39m\u001b[38;5;124m'''\u001b[39m\n\u001b[0;32m----> 6\u001b[0m \u001b[43mcreate_pandas_df\u001b[49m(task_4, database\u001b[38;5;241m=\u001b[39mconn)\n",
      "\u001b[0;31mNameError\u001b[0m: name 'create_pandas_df' is not defined"
     ]
    }
   ],
   "source": [
    "task_4 = '''\n",
    "        SELECT AVG(PayloadMassKG) AS Avg_PayloadMass\n",
    "        FROM SpaceX\n",
    "        WHERE BoosterVersion = 'F9 v1.1'\n",
    "        '''\n",
    "create_pandas_df(task_4, database=conn)"
   ]
  },
  {
   "cell_type": "markdown",
   "id": "daf51f8c-68ab-4bec-9e00-f0816f7afe69",
   "metadata": {},
   "source": [
    "### Task 5\n",
    "\n",
    "##### List the date when the first succesful landing outcome in ground pad was acheived.\n",
    "\n",
    "\n",
    "_Hint:Use min function_ \n"
   ]
  },
  {
   "cell_type": "code",
   "execution_count": 12,
   "id": "ccb7b534-8ad1-47d4-ad4f-fa0d44cb7d7f",
   "metadata": {},
   "outputs": [
    {
     "ename": "NameError",
     "evalue": "name 'create_pandas_df' is not defined",
     "output_type": "error",
     "traceback": [
      "\u001b[0;31m---------------------------------------------------------------------------\u001b[0m",
      "\u001b[0;31mNameError\u001b[0m                                 Traceback (most recent call last)",
      "Cell \u001b[0;32mIn[12], line 6\u001b[0m\n\u001b[1;32m      1\u001b[0m task_5 \u001b[38;5;241m=\u001b[39m \u001b[38;5;124m'''\u001b[39m\n\u001b[1;32m      2\u001b[0m \u001b[38;5;124m        SELECT MIN(Date) AS FirstSuccessfull_landing_date\u001b[39m\n\u001b[1;32m      3\u001b[0m \u001b[38;5;124m        FROM SpaceX\u001b[39m\n\u001b[1;32m      4\u001b[0m \u001b[38;5;124m        WHERE LandingOutcome LIKE \u001b[39m\u001b[38;5;124m'\u001b[39m\u001b[38;5;124mSuccess (ground pad)\u001b[39m\u001b[38;5;124m'\u001b[39m\n\u001b[1;32m      5\u001b[0m \u001b[38;5;124m        \u001b[39m\u001b[38;5;124m'''\u001b[39m\n\u001b[0;32m----> 6\u001b[0m \u001b[43mcreate_pandas_df\u001b[49m(task_5, database\u001b[38;5;241m=\u001b[39mconn)\n",
      "\u001b[0;31mNameError\u001b[0m: name 'create_pandas_df' is not defined"
     ]
    }
   ],
   "source": [
    "task_5 = '''\n",
    "        SELECT MIN(Date) AS FirstSuccessfull_landing_date\n",
    "        FROM SpaceX\n",
    "        WHERE LandingOutcome LIKE 'Success (ground pad)'\n",
    "        '''\n",
    "create_pandas_df(task_5, database=conn)"
   ]
  },
  {
   "cell_type": "markdown",
   "id": "f3b0a30d-0c0e-4438-8ec8-94ff0bfa6241",
   "metadata": {},
   "source": [
    "### Task 6\n",
    "\n",
    "##### List the names of the boosters which have success in drone ship and have payload mass greater than 4000 but less than 6000\n"
   ]
  },
  {
   "cell_type": "code",
   "execution_count": 13,
   "id": "a8a46f10-b7c2-4c2c-836a-21e9289107c5",
   "metadata": {},
   "outputs": [
    {
     "ename": "NameError",
     "evalue": "name 'create_pandas_df' is not defined",
     "output_type": "error",
     "traceback": [
      "\u001b[0;31m---------------------------------------------------------------------------\u001b[0m",
      "\u001b[0;31mNameError\u001b[0m                                 Traceback (most recent call last)",
      "Cell \u001b[0;32mIn[13], line 8\u001b[0m\n\u001b[1;32m      1\u001b[0m task_6 \u001b[38;5;241m=\u001b[39m \u001b[38;5;124m'''\u001b[39m\n\u001b[1;32m      2\u001b[0m \u001b[38;5;124m        SELECT BoosterVersion\u001b[39m\n\u001b[1;32m      3\u001b[0m \u001b[38;5;124m        FROM SpaceX\u001b[39m\n\u001b[0;32m   (...)\u001b[0m\n\u001b[1;32m      6\u001b[0m \u001b[38;5;124m            AND PayloadMassKG < 6000\u001b[39m\n\u001b[1;32m      7\u001b[0m \u001b[38;5;124m        \u001b[39m\u001b[38;5;124m'''\u001b[39m\n\u001b[0;32m----> 8\u001b[0m \u001b[43mcreate_pandas_df\u001b[49m(task_6, database\u001b[38;5;241m=\u001b[39mconn)\n",
      "\u001b[0;31mNameError\u001b[0m: name 'create_pandas_df' is not defined"
     ]
    }
   ],
   "source": [
    "task_6 = '''\n",
    "        SELECT BoosterVersion\n",
    "        FROM SpaceX\n",
    "        WHERE LandingOutcome = 'Success (drone ship)'\n",
    "            AND PayloadMassKG > 4000 \n",
    "            AND PayloadMassKG < 6000\n",
    "        '''\n",
    "create_pandas_df(task_6, database=conn)"
   ]
  },
  {
   "cell_type": "markdown",
   "id": "3b2e99ee-3df2-4059-93fd-0397c93e87a1",
   "metadata": {},
   "source": [
    "### Task 7\n",
    "\n",
    "\n",
    "\n",
    "\n",
    "##### List the total number of successful and failure mission outcomes\n"
   ]
  },
  {
   "cell_type": "code",
   "execution_count": 14,
   "id": "33a28c37-4c70-4a2f-a863-c711e5685b29",
   "metadata": {},
   "outputs": [
    {
     "name": "stdout",
     "output_type": "stream",
     "text": [
      "The total number of successful mission outcome is:\n"
     ]
    },
    {
     "ename": "NameError",
     "evalue": "name 'create_pandas_df' is not defined",
     "output_type": "error",
     "traceback": [
      "\u001b[0;31m---------------------------------------------------------------------------\u001b[0m",
      "\u001b[0;31mNameError\u001b[0m                                 Traceback (most recent call last)",
      "Cell \u001b[0;32mIn[14], line 13\u001b[0m\n\u001b[1;32m      7\u001b[0m task_7b \u001b[38;5;241m=\u001b[39m \u001b[38;5;124m'''\u001b[39m\n\u001b[1;32m      8\u001b[0m \u001b[38;5;124m        SELECT COUNT(MissionOutcome) AS FailureOutcome\u001b[39m\n\u001b[1;32m      9\u001b[0m \u001b[38;5;124m        FROM SpaceX\u001b[39m\n\u001b[1;32m     10\u001b[0m \u001b[38;5;124m        WHERE MissionOutcome LIKE \u001b[39m\u001b[38;5;124m'\u001b[39m\u001b[38;5;124mFailure\u001b[39m\u001b[38;5;124m%\u001b[39m\u001b[38;5;124m'\u001b[39m\n\u001b[1;32m     11\u001b[0m \u001b[38;5;124m        \u001b[39m\u001b[38;5;124m'''\u001b[39m\n\u001b[1;32m     12\u001b[0m \u001b[38;5;28mprint\u001b[39m(\u001b[38;5;124m'\u001b[39m\u001b[38;5;124mThe total number of successful mission outcome is:\u001b[39m\u001b[38;5;124m'\u001b[39m)\n\u001b[0;32m---> 13\u001b[0m display(\u001b[43mcreate_pandas_df\u001b[49m(task_7a, database\u001b[38;5;241m=\u001b[39mconn))\n\u001b[1;32m     14\u001b[0m \u001b[38;5;28mprint\u001b[39m()\n\u001b[1;32m     15\u001b[0m \u001b[38;5;28mprint\u001b[39m(\u001b[38;5;124m'\u001b[39m\u001b[38;5;124mThe total number of failed mission outcome is:\u001b[39m\u001b[38;5;124m'\u001b[39m)\n",
      "\u001b[0;31mNameError\u001b[0m: name 'create_pandas_df' is not defined"
     ]
    }
   ],
   "source": [
    "task_7a = '''\n",
    "        SELECT COUNT(MissionOutcome) AS SuccessOutcome\n",
    "        FROM SpaceX\n",
    "        WHERE MissionOutcome LIKE 'Success%'\n",
    "        '''\n",
    "\n",
    "task_7b = '''\n",
    "        SELECT COUNT(MissionOutcome) AS FailureOutcome\n",
    "        FROM SpaceX\n",
    "        WHERE MissionOutcome LIKE 'Failure%'\n",
    "        '''\n",
    "print('The total number of successful mission outcome is:')\n",
    "display(create_pandas_df(task_7a, database=conn))\n",
    "print()\n",
    "print('The total number of failed mission outcome is:')\n",
    "create_pandas_df(task_7b, database=conn)"
   ]
  },
  {
   "cell_type": "markdown",
   "id": "660e7f9f-6936-4b84-b419-ca94c04f99e2",
   "metadata": {},
   "source": [
    "### Task 8\n",
    "\n",
    "\n",
    "\n",
    "##### List the   names of the booster_versions which have carried the maximum payload mass. Use a subquery\n"
   ]
  },
  {
   "cell_type": "code",
   "execution_count": 15,
   "id": "c3d08631-cbc4-42f1-aa3a-d68e2edad72c",
   "metadata": {},
   "outputs": [
    {
     "ename": "NameError",
     "evalue": "name 'create_pandas_df' is not defined",
     "output_type": "error",
     "traceback": [
      "\u001b[0;31m---------------------------------------------------------------------------\u001b[0m",
      "\u001b[0;31mNameError\u001b[0m                                 Traceback (most recent call last)",
      "Cell \u001b[0;32mIn[15], line 10\u001b[0m\n\u001b[1;32m      1\u001b[0m task_8 \u001b[38;5;241m=\u001b[39m \u001b[38;5;124m'''\u001b[39m\n\u001b[1;32m      2\u001b[0m \u001b[38;5;124m        SELECT BoosterVersion, PayloadMassKG\u001b[39m\n\u001b[1;32m      3\u001b[0m \u001b[38;5;124m        FROM SpaceX\u001b[39m\n\u001b[0;32m   (...)\u001b[0m\n\u001b[1;32m      8\u001b[0m \u001b[38;5;124m        ORDER BY BoosterVersion\u001b[39m\n\u001b[1;32m      9\u001b[0m \u001b[38;5;124m        \u001b[39m\u001b[38;5;124m'''\u001b[39m\n\u001b[0;32m---> 10\u001b[0m \u001b[43mcreate_pandas_df\u001b[49m(task_8, database\u001b[38;5;241m=\u001b[39mconn)\n",
      "\u001b[0;31mNameError\u001b[0m: name 'create_pandas_df' is not defined"
     ]
    }
   ],
   "source": [
    "task_8 = '''\n",
    "        SELECT BoosterVersion, PayloadMassKG\n",
    "        FROM SpaceX\n",
    "        WHERE PayloadMassKG = (\n",
    "                                SELECT MAX(PayloadMassKG)\n",
    "                                FROM SpaceX\n",
    "                                )\n",
    "        ORDER BY BoosterVersion\n",
    "        '''\n",
    "create_pandas_df(task_8, database=conn)"
   ]
  },
  {
   "cell_type": "markdown",
   "id": "008f7c68-5946-43c4-9945-1a45e603eb35",
   "metadata": {},
   "source": [
    "### Task 9\n",
    "\n",
    "\n",
    "##### List the records which will display the month names, failure landing_outcomes in drone ship ,booster versions, launch_site for the months in year 2015.\n",
    "\n",
    "**Note: SQLLite does not support monthnames. So you need to use  substr(Date, 4, 2) as month to get the months and substr(Date,7,4)='2015' for year.**\n"
   ]
  },
  {
   "cell_type": "code",
   "execution_count": 16,
   "id": "66c15b1b-da4b-4951-8d7c-ac8df75836fc",
   "metadata": {},
   "outputs": [
    {
     "ename": "NameError",
     "evalue": "name 'create_pandas_df' is not defined",
     "output_type": "error",
     "traceback": [
      "\u001b[0;31m---------------------------------------------------------------------------\u001b[0m",
      "\u001b[0;31mNameError\u001b[0m                                 Traceback (most recent call last)",
      "Cell \u001b[0;32mIn[16], line 7\u001b[0m\n\u001b[1;32m      1\u001b[0m task_9 \u001b[38;5;241m=\u001b[39m \u001b[38;5;124m'''\u001b[39m\n\u001b[1;32m      2\u001b[0m \u001b[38;5;124m        SELECT BoosterVersion, LaunchSite, LandingOutcome\u001b[39m\n\u001b[1;32m      3\u001b[0m \u001b[38;5;124m        FROM SpaceX\u001b[39m\n\u001b[1;32m      4\u001b[0m \u001b[38;5;124m        WHERE LandingOutcome LIKE \u001b[39m\u001b[38;5;124m'\u001b[39m\u001b[38;5;124mFailure (drone ship)\u001b[39m\u001b[38;5;124m'\u001b[39m\n\u001b[1;32m      5\u001b[0m \u001b[38;5;124m            AND Date BETWEEN \u001b[39m\u001b[38;5;124m'\u001b[39m\u001b[38;5;124m2015-01-01\u001b[39m\u001b[38;5;124m'\u001b[39m\u001b[38;5;124m AND \u001b[39m\u001b[38;5;124m'\u001b[39m\u001b[38;5;124m2015-12-31\u001b[39m\u001b[38;5;124m'\u001b[39m\n\u001b[1;32m      6\u001b[0m \u001b[38;5;124m        \u001b[39m\u001b[38;5;124m'''\u001b[39m\n\u001b[0;32m----> 7\u001b[0m \u001b[43mcreate_pandas_df\u001b[49m(task_9, database\u001b[38;5;241m=\u001b[39mconn)\n",
      "\u001b[0;31mNameError\u001b[0m: name 'create_pandas_df' is not defined"
     ]
    }
   ],
   "source": [
    "task_9 = '''\n",
    "        SELECT BoosterVersion, LaunchSite, LandingOutcome\n",
    "        FROM SpaceX\n",
    "        WHERE LandingOutcome LIKE 'Failure (drone ship)'\n",
    "            AND Date BETWEEN '2015-01-01' AND '2015-12-31'\n",
    "        '''\n",
    "create_pandas_df(task_9, database=conn)"
   ]
  },
  {
   "cell_type": "markdown",
   "id": "930a3560-cc1c-4587-866a-7bde5982c648",
   "metadata": {},
   "source": [
    "### Task 10\n",
    "\n",
    "\n",
    "\n",
    "\n",
    "##### Rank the  count of  successful landing_outcomes between the date 04-06-2010 and 20-03-2017 in descending order.\n"
   ]
  },
  {
   "cell_type": "code",
   "execution_count": 17,
   "id": "d876bcee-cb59-42c0-a747-95560ef3f892",
   "metadata": {},
   "outputs": [
    {
     "ename": "NameError",
     "evalue": "name 'create_pandas_df' is not defined",
     "output_type": "error",
     "traceback": [
      "\u001b[0;31m---------------------------------------------------------------------------\u001b[0m",
      "\u001b[0;31mNameError\u001b[0m                                 Traceback (most recent call last)",
      "Cell \u001b[0;32mIn[17], line 8\u001b[0m\n\u001b[1;32m      1\u001b[0m task_10 \u001b[38;5;241m=\u001b[39m \u001b[38;5;124m'''\u001b[39m\n\u001b[1;32m      2\u001b[0m \u001b[38;5;124m        SELECT LandingOutcome, COUNT(LandingOutcome)\u001b[39m\n\u001b[1;32m      3\u001b[0m \u001b[38;5;124m        FROM SpaceX\u001b[39m\n\u001b[0;32m   (...)\u001b[0m\n\u001b[1;32m      6\u001b[0m \u001b[38;5;124m        ORDER BY COUNT(LandingOutcome) DESC\u001b[39m\n\u001b[1;32m      7\u001b[0m \u001b[38;5;124m        \u001b[39m\u001b[38;5;124m'''\u001b[39m\n\u001b[0;32m----> 8\u001b[0m \u001b[43mcreate_pandas_df\u001b[49m(task_10, database\u001b[38;5;241m=\u001b[39mconn)\n",
      "\u001b[0;31mNameError\u001b[0m: name 'create_pandas_df' is not defined"
     ]
    }
   ],
   "source": [
    "task_10 = '''\n",
    "        SELECT LandingOutcome, COUNT(LandingOutcome)\n",
    "        FROM SpaceX\n",
    "        WHERE DATE BETWEEN '2010-06-04' AND '2017-03-20'\n",
    "        GROUP BY LandingOutcome\n",
    "        ORDER BY COUNT(LandingOutcome) DESC\n",
    "        '''\n",
    "create_pandas_df(task_10, database=conn)"
   ]
  },
  {
   "cell_type": "markdown",
   "id": "48ad1afc-59f0-47a6-ae2e-7b6ff90999dc",
   "metadata": {},
   "source": [
    "### Reference Links\n",
    "\n",
    "* <a href =\"https://cf-courses-data.s3.us.cloud-object-storage.appdomain.cloud/IBMDeveloperSkillsNetwork-DB0201EN-SkillsNetwork/labs/Labs_Coursera_V5/labs/Lab%20-%20String%20Patterns%20-%20Sorting%20-%20Grouping/instructional-labs.md.html?origin=www.coursera.org\">Hands-on Lab : String Patterns, Sorting and Grouping</a>  \n",
    "\n",
    "*  <a  href=\"https://cf-courses-data.s3.us.cloud-object-storage.appdomain.cloud/IBMDeveloperSkillsNetwork-DB0201EN-SkillsNetwork/labs/Labs_Coursera_V5/labs/Lab%20-%20Built-in%20functions%20/Hands-on_Lab__Built-in_Functions.md.html?origin=www.coursera.org\">Hands-on Lab: Built-in functions</a>\n",
    "\n",
    "*  <a  href=\"https://cf-courses-data.s3.us.cloud-object-storage.appdomain.cloud/IBMDeveloperSkillsNetwork-DB0201EN-SkillsNetwork/labs/Labs_Coursera_V5/labs/Lab%20-%20Sub-queries%20and%20Nested%20SELECTs%20/instructional-labs.md.html?origin=www.coursera.org\">Hands-on Lab : Sub-queries and Nested SELECT Statements</a>\n",
    "\n",
    "*   <a href=\"https://cf-courses-data.s3.us.cloud-object-storage.appdomain.cloud/IBMDeveloperSkillsNetwork-DB0201EN-SkillsNetwork/labs/Module%205/DB0201EN-Week3-1-3-SQLmagic.ipynb\">Hands-on Tutorial: Accessing Databases with SQL magic</a>\n",
    "\n",
    "*  <a href= \"https://cf-courses-data.s3.us.cloud-object-storage.appdomain.cloud/IBMDeveloperSkillsNetwork-DB0201EN-SkillsNetwork/labs/Module%205/DB0201EN-Week3-1-4-Analyzing.ipynb\">Hands-on Lab: Analyzing a real World Data Set</a>\n",
    "\n",
    "\n"
   ]
  },
  {
   "cell_type": "markdown",
   "id": "ec1c809f-d209-41d5-8b22-76f7cd59bb53",
   "metadata": {},
   "source": [
    "## Author(s)\n",
    "\n",
    "<h4> Lakshmi Holla </h4>\n"
   ]
  },
  {
   "cell_type": "markdown",
   "id": "bce3d843-e6cc-49de-a788-a31a3de09872",
   "metadata": {},
   "source": [
    "## Other Contributors\n",
    "\n",
    "<h4> Rav Ahuja </h4>\n"
   ]
  },
  {
   "cell_type": "markdown",
   "id": "2a98a3d8-e49d-496a-bc70-e7f473580c66",
   "metadata": {},
   "source": [
    "## Change log\n",
    "| Date | Version | Changed by | Change Description |\n",
    "|------|--------|--------|---------|\n",
    "| 2021-07-09 | 0.2 |Lakshmi Holla | Changes made in magic sql|\n",
    "| 2021-05-20 | 0.1 |Lakshmi Holla | Created Initial Version |\n"
   ]
  },
  {
   "cell_type": "markdown",
   "id": "76a7ca44-fa0a-45b7-a6bd-a8a4f0df1eec",
   "metadata": {},
   "source": [
    "## <h3 align=\"center\"> © IBM Corporation 2021. All rights reserved. <h3/>\n"
   ]
  }
 ],
 "metadata": {
  "kernelspec": {
   "display_name": "Python 3 (ipykernel)",
   "language": "python",
   "name": "python3"
  },
  "language_info": {
   "codemirror_mode": {
    "name": "ipython",
    "version": 3
   },
   "file_extension": ".py",
   "mimetype": "text/x-python",
   "name": "python",
   "nbconvert_exporter": "python",
   "pygments_lexer": "ipython3",
   "version": "3.10.9"
  }
 },
 "nbformat": 4,
 "nbformat_minor": 4
}
